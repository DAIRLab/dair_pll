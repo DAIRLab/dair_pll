{
 "cells": [
  {
   "cell_type": "code",
   "execution_count": 1,
   "id": "5c985761-433f-44a0-b821-3a336760aae0",
   "metadata": {},
   "outputs": [],
   "source": [
    "# Imports\n",
    "from dair_pll import file_utils\n",
    "from dair_pll.multibody_learnable_system import MultibodyLearnableSystemWithTrajectory\n",
    "from dair_pll.drake_experiment import MultibodyLearnableSystemConfig, MultibodyLosses\n",
    "from dair_pll.multibody_terms import InertiaLearn\n",
    "\n",
    "import torch\n",
    "\n",
    "import cProfile, pstats, io\n",
    "from pstats import SortKey\n",
    "import time\n",
    "\n",
    "%matplotlib widget\n",
    "import numpy as np\n",
    "import matplotlib.pyplot as plt\n",
    "import matplotlib.patches as patches\n",
    "from matplotlib import cm"
   ]
  },
  {
   "cell_type": "code",
   "execution_count": 2,
   "id": "93ec1747-f3bb-4081-a3fb-e2ede9f16c62",
   "metadata": {},
   "outputs": [
    {
     "name": "stderr",
     "output_type": "stream",
     "text": [
      "WARNING:drake:Rigid (non-deformable) half spaces are not currently supported for deformable contact; registration is allowed, but no contact data will be reported.\n"
     ]
    }
   ],
   "source": [
    "# Define System Config and System\n",
    "# Note: need robot URDF with ONE finger only\n",
    "learnable_config = MultibodyLearnableSystemConfig(\n",
    "    urdfs={\"cube\": file_utils.get_asset(\"contactnets_cube.urdf\"), 'robot': file_utils.get_asset(\"spherebot.urdf\")}, \n",
    "    loss=MultibodyLosses.TACTILENET_LOSS, \n",
    "    inertia_mode=InertiaLearn(mass=False, com=False, inertia=False),\n",
    "    constant_bodies = [\"finger_0\", \"finger_1\"],\n",
    "    w_pred  = 1e0,\n",
    "    w_comp  = 1e0,\n",
    "    w_diss  = 1e0,\n",
    "    w_pen   = 2e1,\n",
    "    w_res   = 0.,\n",
    "    w_res_w = 0.,\n",
    "    w_dev   = 1e5,\n",
    "    do_residual=False,\n",
    "    represent_geometry_as=\"box\",\n",
    "    randomize_initialization = False, \n",
    "    g_frac=1e0,\n",
    "    # No additional system builders here\n",
    "    use_meshcat=False,\n",
    ")\n",
    "\n",
    "\n",
    "learned_system = MultibodyLearnableSystemWithTrajectory(\n",
    "                trajectory_model = \"cube\",\n",
    "                traj_len = 300,\n",
    "                true_traj = None,\n",
    "                init_urdfs = learnable_config.urdfs,\n",
    "                dt = 0.0068,\n",
    "                inertia_mode = learnable_config.inertia_mode,\n",
    "                constant_bodies = learnable_config.constant_bodies,\n",
    "                w_pred = learnable_config.w_pred,\n",
    "                w_comp = learnable_config.w_comp,\n",
    "                w_diss = learnable_config.w_diss,\n",
    "                w_pen = learnable_config.w_pen,\n",
    "                w_res = learnable_config.w_res,\n",
    "                w_res_w = learnable_config.w_res_w,\n",
    "                w_dev = learnable_config.w_dev,\n",
    "                output_urdfs_dir=file_utils.get_learned_urdf_dir(\"storage\", \"notebook\"),\n",
    "                do_residual=learnable_config.do_residual,\n",
    "                represent_geometry_as=learnable_config.represent_geometry_as,\n",
    "                randomize_initialization=learnable_config.randomize_initialization,\n",
    "                g_frac=learnable_config.g_frac)"
   ]
  },
  {
   "cell_type": "code",
   "execution_count": 3,
   "id": "9bee5ae8-182d-4929-b42e-1137b27f4bcb",
   "metadata": {},
   "outputs": [],
   "source": [
    "# Define Linspace of Robot Positions (X and Z), note ground is at z == 0, cube_z = 0.1, sphere_radius = 0.01\n",
    "steps = 100\n",
    "batch = steps * steps\n",
    "robot_x_bounds = (-0.1, 0.1)\n",
    "robot_z_bounds = (0.005, 0.205)\n",
    "robot_x = torch.linspace(robot_x_bounds[0], robot_x_bounds[1], steps)\n",
    "robot_z = torch.linspace(robot_z_bounds[0], robot_z_bounds[1], steps)\n",
    "robot_q = torch.cartesian_prod(robot_x, robot_z)\n",
    "robot_v = torch.zeros((batch, 2))\n",
    "assert robot_q.shape == robot_v.shape == (batch, 2)\n",
    "\n",
    "cube_q = torch.tensor([[0., 0.05, 0.]]).expand(batch, -1) # X, Z, theta\n",
    "cube_v = torch.zeros((batch, 3))\n",
    "assert cube_q.shape == cube_v.shape == (batch, 3)\n",
    "\n",
    "# Concat to state\n",
    "all_x = torch.hstack((cube_q, robot_q, cube_v, robot_v))\n",
    "\n",
    "# Define empty Us batch\n",
    "control = torch.zeros((batch, 2))\n",
    "\n",
    "# Define constant force batch\n",
    "lambda_m = torch.tensor([1., 0., 0.])\n",
    "lambda_m_norm = torch.nn.functional.normalize(lambda_m, dim=0)\n",
    "contact_forces = {('cube_body', 'finger_0'): lambda_m_norm.expand(batch, -1)}"
   ]
  },
  {
   "cell_type": "code",
   "execution_count": 4,
   "id": "a524082c-2568-443f-b8a4-90117e1c1589",
   "metadata": {},
   "outputs": [
    {
     "name": "stderr",
     "output_type": "stream",
     "text": [
      "/home/ethankg/Envs/cnets/lib/python3.10/site-packages/diffcp/cone_program.py:371: UserWarning: Solved/Inaccurate.\n",
      "  warnings.warn(\"Solved/Inaccurate.\")\n"
     ]
    }
   ],
   "source": [
    "# Compute Loss\n",
    "# Note taking x and x_plus to be the same state\n",
    "pr = cProfile.Profile()\n",
    "start = time.time()\n",
    "pr.enable()\n",
    "loss_pred, loss_comp, loss_pen, loss_diss, loss_dev = \\\n",
    "                learned_system.calculate_contactnets_loss_terms(all_x, control, all_x, contact_forces)\n",
    "pr.disable()\n",
    "run_time = time.time() - start"
   ]
  },
  {
   "cell_type": "code",
   "execution_count": 5,
   "id": "60f7b948-1ab8-4ebf-9004-c6fc421314b4",
   "metadata": {},
   "outputs": [
    {
     "name": "stdout",
     "output_type": "stream",
     "text": [
      "Total Run Time: 12.096929788589478s (0.0012096929788589477s per calc)\n"
     ]
    }
   ],
   "source": [
    "# Profile and Timing\n",
    "print(f\"Total Run Time: {run_time}s ({run_time/batch}s per calc)\")\n",
    "s = io.StringIO()\n",
    "sortby = SortKey.CUMULATIVE\n",
    "ps = pstats.Stats(pr, stream=s).sort_stats(sortby)\n",
    "ps.print_stats()\n",
    "profile_states = s.getvalue()"
   ]
  },
  {
   "cell_type": "code",
   "execution_count": 6,
   "id": "f639fa53-e280-4e1e-8105-88fa3ffddc94",
   "metadata": {},
   "outputs": [],
   "source": [
    "# Plot sum of losses, generate grid\n",
    "X, Y = np.meshgrid(robot_x.numpy(), robot_z.numpy())\n",
    "Z_pred = loss_pred.reshape(steps, steps).T.detach().numpy() # Matches np meshgrid location\n",
    "Z_comp = loss_comp.reshape(steps, steps).T.detach().numpy() # Matches np meshgrid location\n",
    "Z_pen = loss_pen.reshape(steps, steps).T.detach().numpy() # Matches np meshgrid location\n",
    "Z_diss = loss_diss.reshape(steps, steps).T.detach().numpy() # Matches np meshgrid location\n",
    "Z_dev = loss_dev.reshape(steps, steps).T.detach().numpy() # Matches np meshgrid location\n",
    "Z_tot = learnable_config.w_pred * Z_pred + learnable_config.w_comp * Z_comp + learnable_config.w_pen * Z_pen + learnable_config.w_diss * Z_diss + learnable_config.w_dev * Z_dev\n",
    "Z_geom = learnable_config.w_comp * Z_comp + learnable_config.w_pen * Z_pen + learnable_config.w_dev * Z_dev"
   ]
  },
  {
   "cell_type": "code",
   "execution_count": 9,
   "id": "bed27a9d-e49b-453e-a635-91ac19864068",
   "metadata": {},
   "outputs": [],
   "source": [
    "# Actual Plotting\n",
    "fig.clear()\n",
    "ax = fig.add_subplot(111)\n",
    "cmap = plt.get_cmap('YlGn')\n",
    "ax.set_ylim([0.0, np.max(Y)])\n",
    "ax.set_xlim([np.min(X), np.max(X)])\n",
    "\n",
    "Z_plot = Z_dev\n",
    "\n",
    "im = ax.pcolormesh(X, Y, Z_plot, cmap=cmap)\n",
    "# Create a Rectangle patch\n",
    "cube = patches.Rectangle((-0.05, 0.), 0.1, 0.1, linewidth=1, edgecolor='r', facecolor='none')\n",
    "min_idx = np.argmin(Z_plot)\n",
    "robot = patches.Circle((X.flatten()[min_idx], Y.flatten()[min_idx]), 0.01, linewidth=1, edgecolor='r', facecolor='none')\n",
    "force = patches.Arrow(X.flatten()[min_idx], Y.flatten()[min_idx], float(lambda_m_norm[0])*0.01, float(lambda_m_norm[2])*0.01, width=0.005, linewidth=1, edgecolor='r')\n",
    "# Add the patch to the Axes\n",
    "ax.add_patch(cube)\n",
    "ax.add_patch(robot)\n",
    "ax.add_patch(force)\n",
    "\n",
    "# Add Gradient\n",
    "gradient = np.gradient(-Z_plot)\n",
    "gradient_norms = np.linalg.norm(gradient,axis=0)\n",
    "V, U = [np.where(gradient_norms==0,0,i/gradient_norms) for i in gradient]\n",
    "ax.quiver(X, Y, U, V)\n",
    "fig.colorbar(im, ax=ax)\n",
    "fig.canvas.draw()"
   ]
  },
  {
   "cell_type": "code",
   "execution_count": 7,
   "id": "99cc2c73-ba97-4018-8d61-f97d02109d09",
   "metadata": {},
   "outputs": [
    {
     "data": {
      "application/vnd.jupyter.widget-view+json": {
       "model_id": "6238e1b445da46a3b3572e556c583ce8",
       "version_major": 2,
       "version_minor": 0
      },
      "image/png": "[encoded data removed]",
      "text/html": [
       "\n",
       "            <div style=\"display: inline-block;\">\n",
       "                <div class=\"jupyter-widgets widget-label\" style=\"text-align: center;\">\n",
       "                    Figure\n",
       "                </div>\n",
       "                <img src='data:image/png;base64,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' width=640.0/>\n",
       "            </div>\n",
       "        "
      ],
      "text/plain": [
       "Canvas(toolbar=Toolbar(toolitems=[('Home', 'Reset original view', 'home', 'home'), ('Back', 'Back to previous …"
      ]
     },
     "metadata": {},
     "output_type": "display_data"
    }
   ],
   "source": [
    "fig = plt.figure()"
   ]
  },
  {
   "cell_type": "code",
   "execution_count": 23,
   "id": "ef033bff-5c4a-4dcd-a3ac-69c5cd49fddd",
   "metadata": {},
   "outputs": [
    {
     "data": {
      "text/plain": [
       "tensor([0.0010, 0.1464])"
      ]
     },
     "execution_count": 23,
     "metadata": {},
     "output_type": "execute_result"
    }
   ],
   "source": [
    "robot_q[5070]"
   ]
  },
  {
   "cell_type": "code",
   "execution_count": 88,
   "id": "1cb08787-3a19-4203-98aa-5425b8d16108",
   "metadata": {},
   "outputs": [
    {
     "data": {
      "text/plain": [
       "2.5000000000000096e-05"
      ]
     },
     "execution_count": 88,
     "metadata": {},
     "output_type": "execute_result"
    }
   ],
   "source": [
    "Z_pen.flatten()[min_idx]"
   ]
  },
  {
   "cell_type": "code",
   "execution_count": 85,
   "id": "92eb2de0-c140-4cb6-8360-f9c454e01e86",
   "metadata": {},
   "outputs": [
    {
     "data": {
      "text/plain": [
       "array([[2.61145618e-05, 2.54821127e-05, 2.51108615e-05, ...,\n",
       "        2.50000000e-05, 2.50000000e-05, 2.50000000e-05],\n",
       "       [1.59424790e-05, 1.59192939e-05, 1.59192939e-05, ...,\n",
       "        1.59192939e-05, 1.59192939e-05, 1.59192939e-05],\n",
       "       [8.87919600e-06, 8.87919600e-06, 8.87919600e-06, ...,\n",
       "        8.87919600e-06, 8.87919600e-06, 8.87919600e-06],\n",
       "       ...,\n",
       "       [0.00000000e+00, 0.00000000e+00, 0.00000000e+00, ...,\n",
       "        0.00000000e+00, 0.00000000e+00, 0.00000000e+00],\n",
       "       [0.00000000e+00, 0.00000000e+00, 0.00000000e+00, ...,\n",
       "        0.00000000e+00, 0.00000000e+00, 0.00000000e+00],\n",
       "       [0.00000000e+00, 0.00000000e+00, 0.00000000e+00, ...,\n",
       "        0.00000000e+00, 0.00000000e+00, 0.00000000e+00]])"
      ]
     },
     "execution_count": 85,
     "metadata": {},
     "output_type": "execute_result"
    }
   ],
   "source": [
    "Z_pen"
   ]
  },
  {
   "cell_type": "code",
   "execution_count": null,
   "id": "1223b531-4169-43e9-911a-6585bf7b10d7",
   "metadata": {},
   "outputs": [],
   "source": []
  }
 ],
 "metadata": {
  "kernelspec": {
   "display_name": "Python 3.10 (XPython)",
   "language": "python",
   "name": "xpython"
  },
  "language_info": {
   "file_extension": ".py",
   "mimetype": "text/x-python",
   "name": "python",
   "version": "3.10.13"
  }
 },
 "nbformat": 4,
 "nbformat_minor": 5
}
