{
 "cells": [
  {
   "cell_type": "code",
   "execution_count": 4,
   "id": "5c985761-433f-44a0-b821-3a336760aae0",
   "metadata": {},
   "outputs": [],
   "source": [
    "# Imports\n",
    "from dair_pll import file_utils\n",
    "from dair_pll.multibody_learnable_system import MultibodyLearnableSystemWithTrajectory\n",
    "from dair_pll.drake_experiment import MultibodyLearnableSystemConfig, MultibodyLosses\n",
    "from dair_pll.multibody_terms import InertiaLearn"
   ]
  },
  {
   "cell_type": "code",
   "execution_count": 6,
   "id": "93ec1747-f3bb-4081-a3fb-e2ede9f16c62",
   "metadata": {},
   "outputs": [],
   "source": [
    "# Define System Config and System\n",
    "learnable_config = MultibodyLearnableSystemConfig(\n",
    "    urdfs={\"cube\": file_utils.get_asset(\"contactnets_cube.urdf\"), 'robot': file_utils.get_asset(\"spherebot.urdf\")}, \n",
    "    loss=MultibodyLosses.TACTILENET_LOSS, \n",
    "    inertia_mode=InertiaLearn(mass=False, com=False, inertia=False),\n",
    "    constant_bodies = [\"finger_0\", \"finger_1\"],\n",
    "    w_pred  = 1e0,\n",
    "    w_comp  = 1e0,\n",
    "    w_diss  = 1e0,\n",
    "    w_pen   = 1e0,\n",
    "    w_res   = 0.,\n",
    "    w_res_w = 0.,\n",
    "    w_dev   = 1e0,\n",
    "    do_residual=False,\n",
    "    represent_geometry_as=\"box\",\n",
    "    randomize_initialization = False, \n",
    "    g_frac=1e0,\n",
    "    # No additional system builders here\n",
    "    use_meshcat=False,\n",
    ")\n",
    "\n",
    "\n",
    "learned_system = MultibodyLearnableSystemWithTrajectory(\n",
    "                trajectory_model = \"cube\",\n",
    "                traj_len = 300,\n",
    "                true_traj = None,\n",
    "                init_urdfs = learnable_config.urdfs,\n",
    "                dt = 0.0068,\n",
    "                inertia_mode = learnable_config.inertia_mode,\n",
    "                constant_bodies = learnable_config.constant_bodies,\n",
    "                w_pred = learnable_config.w_pred,\n",
    "                w_comp = learnable_config.w_comp,\n",
    "                w_diss = learnable_config.w_diss,\n",
    "                w_pen = learnable_config.w_pen,\n",
    "                w_res = learnable_config.w_res,\n",
    "                w_res_w = learnable_config.w_res_w,\n",
    "                w_dev = learnable_config.w_dev,\n",
    "                output_urdfs_dir=file_utils.get_learned_urdf_dir(\"storage\", \"notebook\"),\n",
    "                do_residual=learnable_config.do_residual,\n",
    "                represent_geometry_as=learnable_config.represent_geometry_as,\n",
    "                randomize_initialization=learnable_config.randomize_initialization,\n",
    "                g_frac=learnable_config.g_frac)"
   ]
  },
  {
   "cell_type": "code",
   "execution_count": 7,
   "id": "9bee5ae8-182d-4929-b42e-1137b27f4bcb",
   "metadata": {},
   "outputs": [],
   "source": [
    "# Define Constant Force\n",
    "\n",
    "# Define Linspace of Robot Positions (X and Z), note ground is at z == 0"
   ]
  },
  {
   "cell_type": "code",
   "execution_count": 8,
   "id": "a524082c-2568-443f-b8a4-90117e1c1589",
   "metadata": {},
   "outputs": [],
   "source": [
    "# Compile positions / force / 0 u into batch of costs to send to contactnets_loss_terms"
   ]
  },
  {
   "cell_type": "code",
   "execution_count": 9,
   "id": "60f7b948-1ab8-4ebf-9004-c6fc421314b4",
   "metadata": {},
   "outputs": [],
   "source": [
    "# Call contactnets_loss_terms (maybe profile it too?)"
   ]
  },
  {
   "cell_type": "code",
   "execution_count": 10,
   "id": "f639fa53-e280-4e1e-8105-88fa3ffddc94",
   "metadata": {},
   "outputs": [],
   "source": [
    "# Plot sum of losses"
   ]
  },
  {
   "cell_type": "code",
   "execution_count": null,
   "id": "bed27a9d-e49b-453e-a635-91ac19864068",
   "metadata": {},
   "outputs": [],
   "source": []
  }
 ],
 "metadata": {
  "kernelspec": {
   "display_name": "Python 3 (ipykernel)",
   "language": "python",
   "name": "python3"
  },
  "language_info": {
   "codemirror_mode": {
    "name": "ipython",
    "version": 3
   },
   "file_extension": ".py",
   "mimetype": "text/x-python",
   "name": "python",
   "nbconvert_exporter": "python",
   "pygments_lexer": "ipython3",
   "version": "3.10.12"
  }
 },
 "nbformat": 4,
 "nbformat_minor": 5
}
